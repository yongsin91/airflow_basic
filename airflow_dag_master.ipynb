{
 "cells": [
  {
   "cell_type": "code",
   "execution_count": 4,
   "id": "44256ae3-bc2f-455b-b9bb-e61cac694cdc",
   "metadata": {},
   "outputs": [],
   "source": [
    "from datetime import datetime as dt\n",
    "from datetime import timedelta \n",
    "from airflow import DAG\n",
    "from airflow.operators.empty import EmptyOperator\n",
    "from airflow.operators.python import PythonOperator\n",
    "from airflow.utils.task_group import TaskGroup\n",
    "from airflow.operators.trigger_dagrun import TriggerDagRunOperator\n",
    "\n",
    "import pandas as pd\n",
    "import os"
   ]
  },
  {
   "cell_type": "code",
   "execution_count": 10,
   "id": "c5f72187-a512-4997-b5d3-7405ea2d4f76",
   "metadata": {},
   "outputs": [],
   "source": [
    "def_args = {\n",
    "    \"start_date\":dt(2024,6,15) }"
   ]
  },
  {
   "cell_type": "code",
   "execution_count": 15,
   "id": "295c9890-4651-4a6f-b7da-93c314e234e7",
   "metadata": {
    "scrolled": true
   },
   "outputs": [],
   "source": [
    "with DAG(\n",
    "    \"etl_master_dag\", \n",
    "    default_args = def_args, \n",
    "    schedule = None ,\n",
    "    catchup=False,\n",
    "    max_active_runs = 5) as dag:\n",
    "    \n",
    "    start = EmptyOperator (task_id = 'start' )\n",
    "    end = EmptyOperator(task_id = 'end')\n",
    "\n",
    "    base = TriggerDagRunOperator ( \n",
    "        task_id = 'base_dag',\n",
    "        trigger_dag_id = 'ex_etl_dag',\n",
    "        logical_date = '{{ds}}',\n",
    "        reset_dag_run = True,\n",
    "        wait_for_completion = True,\n",
    "        poke_interval = 3)\n",
    "\n",
    "    # with TaskGroup('taskgroup_triggerdag', tooltip='taskgroup for triggerdag') as taskgrouptriggerdag:\n",
    "    #     a_dag = TriggerDagRunOperator ( \n",
    "    #         task_id = 'dag_a',\n",
    "    #         trigger_dag_id = 'addition_dag_a',\n",
    "    #         logical_date = '{{ds}}',\n",
    "    #         reset_dag_run = True,\n",
    "    #         wait_for_completion = True,\n",
    "    #         poke_interval = 3)\n",
    "\n",
    "    #     b_dag = TriggerDagRunOperator ( \n",
    "    #         task_id = 'dag_b',\n",
    "    #         trigger_dag_id = 'addition_dag_b',\n",
    "    #         logical_date = '{{ds}}',\n",
    "    #         reset_dag_run = True,\n",
    "    #         wait_for_completion = True,\n",
    "    #         poke_interval = 3)\n",
    "    #     a_dag >> b_dag\n",
    "\n",
    "    c_dag = TriggerDagRunOperator ( \n",
    "        task_id = 'dag_c',\n",
    "        trigger_dag_id = 'addition_dag_c',\n",
    "        logical_date = '{{ds}}',\n",
    "        reset_dag_run = True,\n",
    "        wait_for_completion = True,\n",
    "        poke_interval = 3)\n",
    "\n",
    "    d_dag = TriggerDagRunOperator ( \n",
    "        task_id = 'dag_d',\n",
    "        trigger_dag_id = 'addition_dag_d',\n",
    "        logical_date = '{{ds}}',\n",
    "        reset_dag_run = True,\n",
    "        wait_for_completion = True,\n",
    "        poke_interval = 3)\n",
    "        \n",
    "    # start >> [base,taskgrouptriggerdag]  >> c_dag >> d_dag >> end\n",
    "    start >> base  >> c_dag >> d_dag >> end"
   ]
  },
  {
   "cell_type": "code",
   "execution_count": null,
   "id": "2d71942e-0abc-4c1e-89dd-f78303edcec5",
   "metadata": {},
   "outputs": [],
   "source": []
  }
 ],
 "metadata": {
  "kernelspec": {
   "display_name": "Python 3 (ipykernel)",
   "language": "python",
   "name": "python3"
  },
  "language_info": {
   "codemirror_mode": {
    "name": "ipython",
    "version": 3
   },
   "file_extension": ".py",
   "mimetype": "text/x-python",
   "name": "python",
   "nbconvert_exporter": "python",
   "pygments_lexer": "ipython3",
   "version": "3.12.2"
  }
 },
 "nbformat": 4,
 "nbformat_minor": 5
}
