{
 "cells": [
  {
   "cell_type": "code",
   "execution_count": 10,
   "id": "44256ae3-bc2f-455b-b9bb-e61cac694cdc",
   "metadata": {},
   "outputs": [],
   "source": [
    "from datetime import datetime as dt\n",
    "from datetime import timedelta \n",
    "from airflow import DAG\n",
    "from airflow.operators.empty import EmptyOperator\n",
    "from airflow.operators.python import PythonOperator\n",
    "from airflow.utils.task_group import TaskGroup\n",
    "\n",
    "import pandas as pd\n",
    "import os"
   ]
  },
  {
   "cell_type": "code",
   "execution_count": 23,
   "id": "d523c328-c4e5-40d1-9a34-932ac03904e9",
   "metadata": {},
   "outputs": [],
   "source": [
    "root_folder_path = '/mnt/d/WSL/Ubuntu-22.04/yongsin91/Notebook'\n",
    "os.chdir(root_folder_path)\n",
    "exec(open('./airflow_code.py').read())"
   ]
  },
  {
   "cell_type": "code",
   "execution_count": 24,
   "id": "c5f72187-a512-4997-b5d3-7405ea2d4f76",
   "metadata": {},
   "outputs": [],
   "source": [
    "def_args = {\n",
    "    \"owner\":\"airflow\",\n",
    "    \"retries\":0,\n",
    "    \"retry_delay\":timedelta(minutes=1),\n",
    "    \"start_date\":dt(2024,7,16) }\n",
    "    # 'schedule_interval':'@monthly'}"
   ]
  },
  {
   "cell_type": "code",
   "execution_count": 25,
   "id": "295c9890-4651-4a6f-b7da-93c314e234e7",
   "metadata": {},
   "outputs": [],
   "source": [
    "with DAG(\"ex_etl_dag\", default_args = def_args, schedule = None, catchup=False, max_active_runs = 5) as dag:\n",
    "    start = EmptyOperator ( task_id = 'start' )\n",
    "    # etl = PythonOperator( \n",
    "    #     task_id = 'extract_transform_load', \n",
    "    #     python_callable = etl,\n",
    "    #     op_args = ['variable N1','variable_B1','variable_b2'] )\n",
    "    end = EmptyOperator(task_id = 'end')\n",
    "\n",
    "    # start >> etl >> end\n",
    "    with TaskGroup('testing_taskgroup', tooltip='taskgroup for all remaining') as tg:\n",
    "        task_a = PythonOperator( task_id = 'extract_transform_load', \n",
    "                                 python_callable = etl,\n",
    "                                 op_args = ['variable N1','variable_B1','variable_b2'] )\n",
    "        task_b = PythonOperator( task_id = 'taskgroup_task_b', \n",
    "                                 python_callable = join_task,\n",
    "                                 op_args = ['join_task_1','join_task_2'] )\n",
    "        task_c = PythonOperator( task_id = 'taskgroup_test_c', \n",
    "                                 python_callable = test_a )\n",
    "        task_c >> task_b\n",
    "\n",
    "    ind_e = PythonOperator(\n",
    "            task_id = 'test_e_last',\n",
    "            python_callable = test_e ,\n",
    "            op_args=['item_e'])           \n",
    "    ind_f = PythonOperator(\n",
    "            task_id = 'test_f_last',\n",
    "            python_callable = test_f )           \n",
    "\n",
    "    start >> tg >> ind_e >> ind_f >> end"
   ]
  },
  {
   "cell_type": "code",
   "execution_count": 26,
   "id": "96c89a29-d05a-4668-8d4a-bc41abfd6566",
   "metadata": {},
   "outputs": [],
   "source": [
    "with DAG(\"addition_dag_a\", default_args = def_args, schedule = None, catchup=False, max_active_runs = 5) as dag:\n",
    "    start1 = EmptyOperator ( task_id = 'start' )\n",
    "    # etl = PythonOperator( \n",
    "    #     task_id = 'extract_transform_load', \n",
    "    #     python_callable = etl,\n",
    "    #     op_args = ['variable N1','variable_B1','variable_b2'] )\n",
    "    end1 = EmptyOperator(task_id = 'end')\n",
    "\n",
    "    ind_e1 = PythonOperator(\n",
    "            task_id = 'test_e_last',\n",
    "            python_callable = test_e ,\n",
    "            op_args=['item_e'])           \n",
    "    ind_f1 = PythonOperator(\n",
    "            task_id = 'test_f_last',\n",
    "            python_callable = test_f )           \n",
    "\n",
    "    start1 >> ind_e1 >> ind_f1 >> end1"
   ]
  },
  {
   "cell_type": "code",
   "execution_count": 27,
   "id": "54cfb8e8-fdc4-4362-8cd4-d9f3984e66cd",
   "metadata": {},
   "outputs": [],
   "source": [
    "with DAG(\"addition_dag_b\", default_args = def_args, schedule = None, catchup=False, max_active_runs = 5) as dag:\n",
    "    start2 = EmptyOperator ( task_id = 'start' )\n",
    "    # etl = PythonOperator( \n",
    "    #     task_id = 'extract_transform_load', \n",
    "    #     python_callable = etl,\n",
    "    #     op_args = ['variable N1','variable_B1','variable_b2'] )\n",
    "    end2 = EmptyOperator(task_id = 'end')         \n",
    "    ind_f2 = PythonOperator(\n",
    "            task_id = 'test_f_last',\n",
    "            python_callable = test_f )           \n",
    "\n",
    "    start2 >> ind_f2 >> end2"
   ]
  },
  {
   "cell_type": "code",
   "execution_count": 28,
   "id": "2465992a-8fe3-45f4-9bb3-7aa6ff2614bd",
   "metadata": {},
   "outputs": [],
   "source": [
    "with DAG(\"addition_dag_c\", default_args = def_args, schedule = None, catchup=False, max_active_runs = 5) as dag:\n",
    "    start3 = EmptyOperator ( task_id = 'start' )\n",
    "    # etl = PythonOperator( \n",
    "    #     task_id = 'extract_transform_load', \n",
    "    #     python_callable = etl,\n",
    "    #     op_args = ['variable N1','variable_B1','variable_b2'] )\n",
    "    end3 = EmptyOperator(task_id = 'end')\n",
    "          \n",
    "    ind_f3 = PythonOperator(\n",
    "            task_id = 'test_f_last',\n",
    "            python_callable = test_f )           \n",
    "\n",
    "    start3 >> ind_f3 >> end3"
   ]
  },
  {
   "cell_type": "code",
   "execution_count": 29,
   "id": "98a8fa23-d614-4cd0-8d4b-9c4c6040ef92",
   "metadata": {},
   "outputs": [],
   "source": [
    "with DAG(\"addition_dag_d\", default_args = def_args, schedule = None, catchup=False) as dag:\n",
    "    start4 = EmptyOperator ( task_id = 'start' )\n",
    "    # etl = PythonOperator( \n",
    "    #     task_id = 'extract_transform_load', \n",
    "    #     python_callable = etl,\n",
    "    #     op_args = ['variable N1','variable_B1','variable_b2'] )\n",
    "    end4 = EmptyOperator(task_id = 'end')\n",
    "     \n",
    "    ind_f4 = PythonOperator(\n",
    "            task_id = 'test_f_last',\n",
    "            python_callable = test_f )           \n",
    "\n",
    "    start4 >> ind_f4 >> end4"
   ]
  },
  {
   "cell_type": "code",
   "execution_count": null,
   "id": "35ef21f9-475c-4997-bbd2-32e0bfab261f",
   "metadata": {},
   "outputs": [],
   "source": []
  }
 ],
 "metadata": {
  "kernelspec": {
   "display_name": "Python 3 (ipykernel)",
   "language": "python",
   "name": "python3"
  },
  "language_info": {
   "codemirror_mode": {
    "name": "ipython",
    "version": 3
   },
   "file_extension": ".py",
   "mimetype": "text/x-python",
   "name": "python",
   "nbconvert_exporter": "python",
   "pygments_lexer": "ipython3",
   "version": "3.12.2"
  }
 },
 "nbformat": 4,
 "nbformat_minor": 5
}
