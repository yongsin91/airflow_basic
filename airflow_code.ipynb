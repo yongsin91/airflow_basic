{
 "cells": [
  {
   "cell_type": "code",
   "execution_count": 2,
   "id": "f9ffb9d9-d596-44bb-9de1-a7d0dfcbd1a1",
   "metadata": {},
   "outputs": [],
   "source": [
    "import pandas as pd "
   ]
  },
  {
   "cell_type": "code",
   "execution_count": 12,
   "id": "1e15c014-ddb0-4c21-87d9-7c5bf76df37d",
   "metadata": {},
   "outputs": [],
   "source": [
    "# extra function to link all 3 objects, in order to pass the output dataset from extract to transform, then from transform to load\n",
    "# using xcom to pass data among stage has its limitation. Complex items, e.g. DataFrame are unable to be passed over, as it is unable to be serialize\n",
    "def etl(n1,b1,b2,ti):\n",
    "    e_rtn_obj = extract_fn()\n",
    "    t_rtn_obj = transform_fn(n1, e_rtn_obj)\n",
    "    l_rtn_obj = load_fn(b1,b2,e_rtn_obj)"
   ]
  },
  {
   "cell_type": "code",
   "execution_count": 13,
   "id": "1066408a-c065-4765-ab22-0a101221748b",
   "metadata": {},
   "outputs": [],
   "source": [
    "def extract_fn():\n",
    "    print(\"logic to extract data\")\n",
    "    \n",
    "    details = {\n",
    "        'cust_id': [1,2,3,4],\n",
    "        'name': ['james', 'justin','jess','joyce'] }\n",
    "    df = pd.DataFrame(details)\n",
    "    return df\n",
    "\n",
    "def transform_fn(n1, e_rtn_obj):\n",
    "    extract = e_rtn_obj\n",
    "    print(f\"the value of variables are {n1} and {extract}\")\n",
    "    print(\"logic to transform data\")\n",
    "\n",
    "def load_fn(b1,b2, e_rtn_obj):\n",
    "    extract = e_rtn_obj\n",
    "    print(f\"The value of b1 is {b1} and {extract}\")\n",
    "    print(\"The value of b2 is {}\".format(b2))\n",
    "    print(\"logic to load data\")"
   ]
  },
  {
   "cell_type": "code",
   "execution_count": 18,
   "id": "fb1e83c6-8ae4-4f8c-80c9-500a1fa3121f",
   "metadata": {},
   "outputs": [],
   "source": [
    "def join_task(a,b,ti):\n",
    "    item_b = test_b(a)\n",
    "    item_c = test_c(item_b) \n",
    "\n",
    "def test_a():\n",
    "    A = 'item_A in test_a'\n",
    "    return A\n",
    "\n",
    "def test_b(a):\n",
    "    print(f'received {a}')\n",
    "    print(\"test_b end\")\n",
    "    return 'test_b'\n",
    "\n",
    "def test_c(b):\n",
    "    print(f'received {b}')\n",
    "    print(\"test_c end\")"
   ]
  },
  {
   "cell_type": "code",
   "execution_count": 17,
   "id": "4b97c9bd-f400-4c6a-89cb-4c7829e481ae",
   "metadata": {},
   "outputs": [],
   "source": [
    "def test_e(d):\n",
    "    print(f\"external dag with item {d}\") \n",
    "def test_f():\n",
    "    print(f'last item')"
   ]
  }
 ],
 "metadata": {
  "kernelspec": {
   "display_name": "Python 3 (ipykernel)",
   "language": "python",
   "name": "python3"
  },
  "language_info": {
   "codemirror_mode": {
    "name": "ipython",
    "version": 3
   },
   "file_extension": ".py",
   "mimetype": "text/x-python",
   "name": "python",
   "nbconvert_exporter": "python",
   "pygments_lexer": "ipython3",
   "version": "3.12.2"
  }
 },
 "nbformat": 4,
 "nbformat_minor": 5
}
